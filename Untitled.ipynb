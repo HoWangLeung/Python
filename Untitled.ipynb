{
 "cells": [
  {
   "cell_type": "code",
   "execution_count": 10,
   "id": "792314d4",
   "metadata": {},
   "outputs": [],
   "source": [
    "\n",
    "class Game:\n",
    "    def __init__(self, initial_state, rules,max_size):\n",
    "        self.initial_state = initial_state\n",
    "        self.rules = rules\n",
    "        self.max_size = max_size\n",
    "    def run_game(self, it):\n",
    "        state = self.initial_state\n",
    "        previous_state = None\n",
    "        progression = []\n",
    "        i = 0\n",
    "        while (not state.equals(previous_state) and i < it):\n",
    "            i += 1\n",
    "            previous_state = state.copy()\n",
    "            progression.append(previous_state.grid)\n",
    "            state = state.apply_rules(self.rules,self.max_size)\n",
    "        progression.append(state.grid)\n",
    "        return progression"
   ]
  },
  {
   "cell_type": "code",
   "execution_count": null,
   "id": "88eafbb8",
   "metadata": {},
   "outputs": [],
   "source": []
  }
 ],
 "metadata": {
  "kernelspec": {
   "display_name": "Python 3",
   "language": "python",
   "name": "python3"
  },
  "language_info": {
   "codemirror_mode": {
    "name": "ipython",
    "version": 3
   },
   "file_extension": ".py",
   "mimetype": "text/x-python",
   "name": "python",
   "nbconvert_exporter": "python",
   "pygments_lexer": "ipython3",
   "version": "3.8.8"
  }
 },
 "nbformat": 4,
 "nbformat_minor": 5
}
